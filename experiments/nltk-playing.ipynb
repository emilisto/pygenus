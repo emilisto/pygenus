{
 "metadata": {
  "name": "",
  "signature": "sha256:cbb323bcfa454b9202c318d6334faad1e21558b588a3c8a7b83a33f0782652c4"
 },
 "nbformat": 3,
 "nbformat_minor": 0,
 "worksheets": [
  {
   "cells": [
    {
     "cell_type": "code",
     "collapsed": false,
     "input": [
      "import nltk"
     ],
     "language": "python",
     "metadata": {},
     "outputs": [],
     "prompt_number": 1
    },
    {
     "cell_type": "code",
     "collapsed": false,
     "input": [
      "#raw = open('sample-data/tale-of-two-cities-excerpt.txt').read()\n",
      "raw = \"John is looking for her, but Jane is nowhere to be found with him. \" \\\n",
      "    \"She's in the water swimming with his dog down in Berlin river, which is \" \\\n",
      "    \"close to Holabandolamongollili.\"\n",
      "#raw = ' '.join(['he', 'him', 'his', 'himself', 'she', 'her', 'hers', 'herself'])\n",
      "tokenized = nltk.word_tokenize(raw)\n",
      "postags = nltk.pos_tag(tokenized)\n",
      "\n",
      "\n",
      "postags\n",
      "#list(filter(is_possible_gender_word, postags))"
     ],
     "language": "python",
     "metadata": {},
     "outputs": [
      {
       "metadata": {},
       "output_type": "pyout",
       "prompt_number": 29,
       "text": [
        "[('John', 'NNP'),\n",
        " ('is', 'VBZ'),\n",
        " ('looking', 'VBG'),\n",
        " ('for', 'IN'),\n",
        " ('her', 'PRP$'),\n",
        " (',', ','),\n",
        " ('but', 'CC'),\n",
        " ('Jane', 'NNP'),\n",
        " ('is', 'VBZ'),\n",
        " ('nowhere', 'RB'),\n",
        " ('to', 'TO'),\n",
        " ('be', 'VB'),\n",
        " ('found', 'VBN'),\n",
        " ('with', 'IN'),\n",
        " ('him', 'PRP'),\n",
        " ('.', '.'),\n",
        " ('She', 'PRP'),\n",
        " (\"'s\", 'VBZ'),\n",
        " ('in', 'IN'),\n",
        " ('the', 'DT'),\n",
        " ('water', 'NN'),\n",
        " ('swimming', 'VBG'),\n",
        " ('with', 'IN'),\n",
        " ('his', 'PRP$'),\n",
        " ('dog', 'NN'),\n",
        " ('down', 'IN'),\n",
        " ('in', 'IN'),\n",
        " ('Berlin', 'NNP'),\n",
        " ('river', 'NN'),\n",
        " (',', ','),\n",
        " ('which', 'WDT'),\n",
        " ('is', 'VBZ'),\n",
        " ('close', 'RB'),\n",
        " ('to', 'TO'),\n",
        " ('Holabandolamongollili', 'NNP'),\n",
        " ('.', '.')]"
       ]
      }
     ],
     "prompt_number": 29
    },
    {
     "cell_type": "markdown",
     "metadata": {},
     "source": [
      "```python\n",
      ">>> nltk.help.upenn_tagset('NN')\n",
      "NN: noun, common, singular or mass\n",
      "    common-carrier cabbage knuckle-duster Casino afghan shed thermostat\n",
      "    investment slide humour falloff slick wind hyena override subhumanity\n",
      "    machinist ...\n",
      ">>> nltk.help.upenn_tagset('NNP')\n",
      "NNP: noun, proper, singular\n",
      "    Motown Venneboerger Czestochwa Ranzer Conchita Trumplane Christos\n",
      "    Oceanside Escobar Kreisler Sawyer Cougar Yvette Ervin ODI Darryl CTCA\n",
      "    Shannon A.K.C. Meltex Liverpool ...\n",
      ">>> nltk.help.upenn_tagset('PRP')\n",
      "PRP: pronoun, personal\n",
      "    hers herself him himself hisself it itself me myself one oneself ours\n",
      "    ourselves ownself self she thee theirs them themselves they thou thy us\n",
      ">>> nltk.help.upenn_tagset('PRP$')\n",
      "PRP$: pronoun, possessive\n",
      "    her his mine my our ours their thy your\n",
      "```"
     ]
    },
    {
     "cell_type": "code",
     "collapsed": false,
     "input": [],
     "language": "python",
     "metadata": {},
     "outputs": []
    }
   ],
   "metadata": {}
  }
 ]
}